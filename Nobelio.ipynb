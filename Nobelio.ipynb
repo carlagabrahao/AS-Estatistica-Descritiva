{
 "cells": [
  {
   "cell_type": "code",
   "execution_count": 4,
   "id": "acc31fd4-0755-430a-8f1f-cc30e43a9c5d",
   "metadata": {},
   "outputs": [
    {
     "name": "stdout",
     "output_type": "stream",
     "text": [
      "Requirement already satisfied: missingno in c:\\users\\gmsar\\anaconda3\\lib\\site-packages (0.5.1)\n",
      "Requirement already satisfied: numpy in c:\\users\\gmsar\\anaconda3\\lib\\site-packages (from missingno) (1.20.3)\n",
      "Requirement already satisfied: scipy in c:\\users\\gmsar\\anaconda3\\lib\\site-packages (from missingno) (1.7.1)\n",
      "Requirement already satisfied: matplotlib in c:\\users\\gmsar\\anaconda3\\lib\\site-packages (from missingno) (3.4.3)\n",
      "Requirement already satisfied: seaborn in c:\\users\\gmsar\\anaconda3\\lib\\site-packages (from missingno) (0.11.2)\n",
      "Requirement already satisfied: kiwisolver>=1.0.1 in c:\\users\\gmsar\\anaconda3\\lib\\site-packages (from matplotlib->missingno) (1.3.1)\n",
      "Requirement already satisfied: python-dateutil>=2.7 in c:\\users\\gmsar\\anaconda3\\lib\\site-packages (from matplotlib->missingno) (2.8.2)\n",
      "Requirement already satisfied: cycler>=0.10 in c:\\users\\gmsar\\anaconda3\\lib\\site-packages (from matplotlib->missingno) (0.10.0)\n",
      "Requirement already satisfied: pyparsing>=2.2.1 in c:\\users\\gmsar\\anaconda3\\lib\\site-packages (from matplotlib->missingno) (3.0.4)\n",
      "Requirement already satisfied: pillow>=6.2.0 in c:\\users\\gmsar\\anaconda3\\lib\\site-packages (from matplotlib->missingno) (8.4.0)\n",
      "Requirement already satisfied: six in c:\\users\\gmsar\\anaconda3\\lib\\site-packages (from cycler>=0.10->matplotlib->missingno) (1.16.0)\n",
      "Requirement already satisfied: pandas>=0.23 in c:\\users\\gmsar\\anaconda3\\lib\\site-packages (from seaborn->missingno) (1.3.4)\n",
      "Requirement already satisfied: pytz>=2017.3 in c:\\users\\gmsar\\anaconda3\\lib\\site-packages (from pandas>=0.23->seaborn->missingno) (2021.3)\n"
     ]
    }
   ],
   "source": [
    "!pip install missingno"
   ]
  },
  {
   "cell_type": "code",
   "execution_count": 5,
   "id": "974ba190-53c1-4f40-a072-45e611f37912",
   "metadata": {},
   "outputs": [],
   "source": [
    "import pandas as pd\n",
    "import seaborn as sns\n",
    "import missingno as msno\n",
    "import numpy as np\n",
    "from matplotlib import pyplot as plt\n",
    "\n",
    "pd.options.display.max_rows = 1000\n",
    "pd.options.display.max_columns = 1000\n",
    "\n",
    "sns.set()  "
   ]
  },
  {
   "cell_type": "code",
   "execution_count": 8,
   "id": "b02a8c59-79ae-45aa-9f93-8f2aa7a0571c",
   "metadata": {},
   "outputs": [],
   "source": [
    "filepath = 'C:/Users/gmsar/Downloads/Nobelio.xlsx'\n",
    "\n",
    "df = pd.read_excel(filepath, sheet_name='Planilha1')\n"
   ]
  },
  {
   "cell_type": "code",
   "execution_count": 9,
   "id": "90509ce3-22d1-4176-99d8-6063389d3184",
   "metadata": {},
   "outputs": [
    {
     "data": {
      "text/html": [
       "<div>\n",
       "<style scoped>\n",
       "    .dataframe tbody tr th:only-of-type {\n",
       "        vertical-align: middle;\n",
       "    }\n",
       "\n",
       "    .dataframe tbody tr th {\n",
       "        vertical-align: top;\n",
       "    }\n",
       "\n",
       "    .dataframe thead th {\n",
       "        text-align: right;\n",
       "    }\n",
       "</style>\n",
       "<table border=\"1\" class=\"dataframe\">\n",
       "  <thead>\n",
       "    <tr style=\"text-align: right;\">\n",
       "      <th></th>\n",
       "      <th>Código</th>\n",
       "      <th>Adimplencia</th>\n",
       "      <th>Renda</th>\n",
       "      <th>CasaPropria</th>\n",
       "      <th>FuncPublico</th>\n",
       "    </tr>\n",
       "  </thead>\n",
       "  <tbody>\n",
       "    <tr>\n",
       "      <th>0</th>\n",
       "      <td>97</td>\n",
       "      <td>Sim</td>\n",
       "      <td>7052.6</td>\n",
       "      <td>Sim</td>\n",
       "      <td>Sim</td>\n",
       "    </tr>\n",
       "    <tr>\n",
       "      <th>1</th>\n",
       "      <td>64</td>\n",
       "      <td>Sim</td>\n",
       "      <td>6522.0</td>\n",
       "      <td>Sim</td>\n",
       "      <td>Sim</td>\n",
       "    </tr>\n",
       "    <tr>\n",
       "      <th>2</th>\n",
       "      <td>90</td>\n",
       "      <td>Sim</td>\n",
       "      <td>7266.8</td>\n",
       "      <td>Sim</td>\n",
       "      <td>Não</td>\n",
       "    </tr>\n",
       "    <tr>\n",
       "      <th>3</th>\n",
       "      <td>54</td>\n",
       "      <td>Sim</td>\n",
       "      <td>5928.8</td>\n",
       "      <td>Sim</td>\n",
       "      <td>Sim</td>\n",
       "    </tr>\n",
       "    <tr>\n",
       "      <th>4</th>\n",
       "      <td>63</td>\n",
       "      <td>Sim</td>\n",
       "      <td>5719.6</td>\n",
       "      <td>Sim</td>\n",
       "      <td>Sim</td>\n",
       "    </tr>\n",
       "  </tbody>\n",
       "</table>\n",
       "</div>"
      ],
      "text/plain": [
       "   Código Adimplencia   Renda CasaPropria FuncPublico\n",
       "0      97         Sim  7052.6         Sim         Sim\n",
       "1      64         Sim  6522.0         Sim         Sim\n",
       "2      90         Sim  7266.8         Sim         Não\n",
       "3      54         Sim  5928.8         Sim         Sim\n",
       "4      63         Sim  5719.6         Sim         Sim"
      ]
     },
     "execution_count": 9,
     "metadata": {},
     "output_type": "execute_result"
    }
   ],
   "source": [
    "df.head()"
   ]
  },
  {
   "cell_type": "code",
   "execution_count": 11,
   "id": "84f595c0-af42-488f-ab42-d2988885c8fc",
   "metadata": {},
   "outputs": [
    {
     "data": {
      "text/plain": [
       "Text(0.5, 0, 'Adimplencia')"
      ]
     },
     "execution_count": 11,
     "metadata": {},
     "output_type": "execute_result"
    },
    {
     "data": {
      "image/png": "[encoded data removed]",
      "text/plain": [
       "<Figure size 432x288 with 1 Axes>"
      ]
     },
     "metadata": {},
     "output_type": "display_data"
    }
   ],
   "source": [
    "ax = sns.boxplot(y='Renda', x='Adimplencia', data=df, orient='v')\n",
    "ax.set_title('Renda gera Adimplencia')\n",
    "ax.set_ylabel('Renda pessoal')\n",
    "ax.set_xlabel('Adimplencia')\n",
    "\n",
    "\n",
    "\n"
   ]
  },
  {
   "cell_type": "code",
   "execution_count": 12,
   "id": "e452f8ad-3576-46c1-b497-6d9fde35bc69",
   "metadata": {},
   "outputs": [
    {
     "data": {
      "text/plain": [
       "Text(0.5, 0, 'Funcionário Publico')"
      ]
     },
     "execution_count": 12,
     "metadata": {},
     "output_type": "execute_result"
    },
    {
     "data": {
      "image/png": "[encoded data removed]",
      "text/plain": [
       "<Figure size 432x288 with 1 Axes>"
      ]
     },
     "metadata": {},
     "output_type": "display_data"
    }
   ],
   "source": [
    "ax = sns.boxplot(y='Renda', x='FuncPublico', data=df, orient='v')\n",
    "ax.set_title('Renda X Funcionário Público')\n",
    "ax.set_ylabel('Renda pessoal')\n",
    "ax.set_xlabel('Funcionário Publico')"
   ]
  },
  {
   "cell_type": "code",
   "execution_count": null,
   "id": "5244d9f0-7278-4b15-9640-611529d3a02c",
   "metadata": {},
   "outputs": [],
   "source": []
  }
 ],
 "metadata": {
  "kernelspec": {
   "display_name": "Python 3 (ipykernel)",
   "language": "python",
   "name": "python3"
  },
  "language_info": {
   "codemirror_mode": {
    "name": "ipython",
    "version": 3
   },
   "file_extension": ".py",
   "mimetype": "text/x-python",
   "name": "python",
   "nbconvert_exporter": "python",
   "pygments_lexer": "ipython3",
   "version": "3.9.7"
  }
 },
 "nbformat": 4,
 "nbformat_minor": 5
}
